{
  "cells": [
    {
      "attachments": {},
      "cell_type": "markdown",
      "metadata": {
        "id": "HUQP2ZFNEB13"
      },
      "source": [
        "# **Loops**\n",
        "In this tutorial, we will learn about loops. Loops are a way to repeat a block of code multiple times. There are two types of loops in Python: `for` loops and `while` loops. We will see how to use both of them in this tutorial."
      ]
    },
    {
      "attachments": {},
      "cell_type": "markdown",
      "metadata": {
        "id": "oCUuvgyMEO-O"
      },
      "source": [
        "#### **Problem 01**\n",
        "Write a Python program to find the sum of first 10 natural numbers."
      ]
    },
    {
      "cell_type": "code",
      "execution_count": null,
      "metadata": {
        "id": "KUALNOD-Oj9U"
      },
      "outputs": [],
      "source": [
        "# Write your code here"
      ]
    },
    {
      "attachments": {},
      "cell_type": "markdown",
      "metadata": {
        "id": "_J9T7C_mI-3T"
      },
      "source": [
        "#### **Problem 02**\n",
        "Write a program that will keep taking input (integers) until the user enters -1."
      ]
    },
    {
      "cell_type": "code",
      "execution_count": null,
      "metadata": {
        "id": "l5kYnNqqOnYC"
      },
      "outputs": [],
      "source": [
        "# Write your code here"
      ]
    },
    {
      "attachments": {},
      "cell_type": "markdown",
      "metadata": {
        "id": "rBlSMOGLJVo8"
      },
      "source": [
        "#### **Problem 03**\n",
        "Write a program that will keep taking input (character) until the user enters a dot '.'"
      ]
    },
    {
      "cell_type": "code",
      "execution_count": null,
      "metadata": {
        "id": "fL46Ol9gOoXN"
      },
      "outputs": [],
      "source": [
        "# Write your code here"
      ]
    },
    {
      "attachments": {},
      "cell_type": "markdown",
      "metadata": {
        "id": "EPqLahfaJeZ3"
      },
      "source": [
        "#### **Problem 04**\n",
        "Write a program that will keep taking input (floats) until the user enters 3.1416."
      ]
    },
    {
      "cell_type": "code",
      "execution_count": null,
      "metadata": {
        "id": "qnQdIA7cOozC"
      },
      "outputs": [],
      "source": [
        "# Write your code here"
      ]
    },
    {
      "attachments": {},
      "cell_type": "markdown",
      "metadata": {
        "id": "NyKGIO0fEWK2"
      },
      "source": [
        "#### **Problem 05**\n",
        "Write a Python Program to read the CGPAs of 10 students and print the max CGPA, min CGPA and average CGPA."
      ]
    },
    {
      "cell_type": "code",
      "execution_count": null,
      "metadata": {
        "id": "Citv8itsOqaG"
      },
      "outputs": [],
      "source": [
        "# Write your code here"
      ]
    },
    {
      "attachments": {},
      "cell_type": "markdown",
      "metadata": {
        "id": "cG8MtA3xEd9o"
      },
      "source": [
        "#### **Problem 06**\n",
        "Write a Python program to display the multiplication table of a given integer."
      ]
    },
    {
      "cell_type": "code",
      "execution_count": null,
      "metadata": {
        "id": "iFPREv-mOrPS"
      },
      "outputs": [],
      "source": [
        "# Write your code here"
      ]
    },
    {
      "attachments": {},
      "cell_type": "markdown",
      "metadata": {
        "id": "mq2aSSi6Jkd4"
      },
      "source": [
        "#### **Problem 07**\n",
        "Write a program that will print the following series of integers.\n",
        "$$0, 1, 2, 3, … 99$$"
      ]
    },
    {
      "cell_type": "code",
      "execution_count": null,
      "metadata": {
        "id": "ODbAfAwKOsGV"
      },
      "outputs": [],
      "source": [
        "# Write your code here"
      ]
    },
    {
      "attachments": {},
      "cell_type": "markdown",
      "metadata": {
        "id": "OBXnRTFbKEjU"
      },
      "source": [
        "#### **Problem 08**\n",
        "Write a program that will print the following series of integers.\n",
        "$$42, 41, 40, 39, … 17$$"
      ]
    },
    {
      "cell_type": "code",
      "execution_count": null,
      "metadata": {
        "id": "bZ8joQ0AOsyg"
      },
      "outputs": [],
      "source": [
        "# Write your code here"
      ]
    },
    {
      "attachments": {},
      "cell_type": "markdown",
      "metadata": {
        "id": "1Ci9-7kRKG04"
      },
      "source": [
        "#### **Problem 09**\n",
        "Write a program that will print the following series of floating point numbers.\n",
        "$$2.25, 2.50, 2.75, 3.00, … 4.00$$ "
      ]
    },
    {
      "cell_type": "code",
      "execution_count": null,
      "metadata": {
        "id": "wDTVztJlOtk0"
      },
      "outputs": [],
      "source": [
        "# Write your code here"
      ]
    },
    {
      "attachments": {},
      "cell_type": "markdown",
      "metadata": {
        "id": "at6-fJe7KJin"
      },
      "source": [
        "#### **Problem 10**\n",
        "Write a program that will print the following series of characters.\n",
        "$$a, b, c,…, z$$"
      ]
    },
    {
      "cell_type": "code",
      "execution_count": null,
      "metadata": {
        "id": "pvh2nsptOuX1"
      },
      "outputs": [],
      "source": [
        "# Write your code here"
      ]
    },
    {
      "attachments": {},
      "cell_type": "markdown",
      "metadata": {
        "id": "T4WqqiiwKMbU"
      },
      "source": [
        "#### **Problem 11**\n",
        "Write a program that will print the following series of integers.\n",
        "$$1, 3, 5, 7,…73$$"
      ]
    },
    {
      "cell_type": "code",
      "execution_count": null,
      "metadata": {
        "id": "CxoavYk2OvXs"
      },
      "outputs": [],
      "source": [
        "# Write your code here"
      ]
    },
    {
      "attachments": {},
      "cell_type": "markdown",
      "metadata": {
        "id": "OeMYxr-GKOs9"
      },
      "source": [
        "#### **Problem 12**\n",
        "Write a program that will print the following series of integers.\n",
        "$$-42, -40, -38, …-8$$"
      ]
    },
    {
      "cell_type": "code",
      "execution_count": null,
      "metadata": {
        "id": "DVweqq1hOwGQ"
      },
      "outputs": [],
      "source": [
        "# Write your code here"
      ]
    },
    {
      "attachments": {},
      "cell_type": "markdown",
      "metadata": {
        "id": "kZr1zTJwL3Hx"
      },
      "source": [
        "#### **Problem 13**\n",
        "Write a program that will count the number of digits in a given integer."
      ]
    },
    {
      "cell_type": "code",
      "execution_count": null,
      "metadata": {
        "id": "yfXPniLhOw2M"
      },
      "outputs": [],
      "source": [
        "# Write your code here"
      ]
    },
    {
      "attachments": {},
      "cell_type": "markdown",
      "metadata": {
        "id": "ni4SS3lDKa-l"
      },
      "source": [
        "#### **Problem 14**\n",
        "Take two integers from the user and print all the integers between them.\n"
      ]
    },
    {
      "cell_type": "code",
      "execution_count": null,
      "metadata": {
        "id": "qSKAfVvHOxiM"
      },
      "outputs": [],
      "source": [
        "# Write your code here"
      ]
    },
    {
      "attachments": {},
      "cell_type": "markdown",
      "metadata": {
        "id": "H7wiGpknKkch"
      },
      "source": [
        "#### **Problem 15**\n",
        "Take two integers from the user and print all the odd numbers between them. You cannot use the % operator."
      ]
    },
    {
      "cell_type": "code",
      "execution_count": null,
      "metadata": {
        "id": "n5ozlzXdOyIX"
      },
      "outputs": [],
      "source": [
        "# Write your code here"
      ]
    }
  ],
  "metadata": {
    "colab": {
      "collapsed_sections": [],
      "provenance": []
    },
    "kernelspec": {
      "display_name": "Python 3.10.6 64-bit",
      "language": "python",
      "name": "python3"
    },
    "language_info": {
      "name": "python",
      "version": "3.10.6 (tags/v3.10.6:9c7b4bd, Aug  1 2022, 21:53:49) [MSC v.1932 64 bit (AMD64)]"
    },
    "vscode": {
      "interpreter": {
        "hash": "b148fc9bfa8b60132af830e32e1690e4e023b803e92912df15b823b90141dda6"
      }
    }
  },
  "nbformat": 4,
  "nbformat_minor": 0
}
