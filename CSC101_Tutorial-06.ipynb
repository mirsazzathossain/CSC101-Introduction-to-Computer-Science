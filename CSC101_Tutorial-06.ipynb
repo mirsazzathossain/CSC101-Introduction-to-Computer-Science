{
  "cells": [
    {
      "cell_type": "markdown",
      "metadata": {
        "id": "HUQP2ZFNEB13"
      },
      "source": [
        "## **More on Loops**\n",
        "In this tutorial, we will go a bit deeper into loops. We will look at nested loops and how to use them to solve problems."
      ]
    },
    {
      "cell_type": "markdown",
      "metadata": {
        "id": "KeBTx8eYKmO2"
      },
      "source": [
        "#### **Problem 01**\n",
        "Take two integers from the user and print all the numbers between them that are divisible by 7. You cannot use the % operator."
      ]
    },
    {
      "cell_type": "code",
      "execution_count": null,
      "metadata": {
        "id": "QPTV1O2NOy2J"
      },
      "outputs": [],
      "source": [
        "# Write your code here"
      ]
    },
    {
      "cell_type": "markdown",
      "metadata": {
        "id": "TYY_J3D4E_Ck"
      },
      "source": [
        "#### **Problem 02**\n",
        "Write a Python program to find the sum of series $$S=1+2+3+…+100$$\n"
      ]
    },
    {
      "cell_type": "code",
      "execution_count": null,
      "metadata": {
        "id": "aqdfaeteOzq8"
      },
      "outputs": [],
      "source": [
        "# Write your code here"
      ]
    },
    {
      "cell_type": "markdown",
      "metadata": {
        "id": "huejxE0EM1Yg"
      },
      "source": [
        "#### **Problem 03**\n",
        "Write a Python program to find the sum of series $$S=1+3+5+…+99$$"
      ]
    },
    {
      "cell_type": "code",
      "execution_count": null,
      "metadata": {
        "id": "2q_mne0gO0WM"
      },
      "outputs": [],
      "source": [
        "# Write your code here"
      ]
    },
    {
      "cell_type": "markdown",
      "metadata": {
        "id": "3q9vLrpwM6AX"
      },
      "source": [
        "#### **Problem 04**\n",
        "Write a Python program to find the sum of series $$S=5+10+15+…+100$$"
      ]
    },
    {
      "cell_type": "code",
      "execution_count": null,
      "metadata": {
        "id": "o01DwGDEO0_E"
      },
      "outputs": [],
      "source": [
        "# Write your code here"
      ]
    },
    {
      "cell_type": "markdown",
      "metadata": {
        "id": "qI-2P_tiM8RA"
      },
      "source": [
        "#### **Problem 05**\n",
        "Write a Python program to find the sum of series $$S=1-2+3-4…+99-100$$"
      ]
    },
    {
      "cell_type": "code",
      "execution_count": null,
      "metadata": {
        "id": "12X5zBTiO1ri"
      },
      "outputs": [],
      "source": [
        "# Write your code here"
      ]
    },
    {
      "cell_type": "markdown",
      "metadata": {
        "id": "L8rqVAEnM-Zg"
      },
      "source": [
        "#### **Problem 06**\n",
        "Write a Python program to find the sum of series $$S=1+2+4+8+…+1024$$"
      ]
    },
    {
      "cell_type": "code",
      "execution_count": null,
      "metadata": {
        "id": "XADjKye5O2UK"
      },
      "outputs": [],
      "source": [
        "# Write your code here"
      ]
    },
    {
      "cell_type": "markdown",
      "metadata": {
        "id": "YvhP_aNGNAwe"
      },
      "source": [
        "#### **Problem 07**\n",
        "Write a Python program to find the sum of series $$S=1+2+4+7+11+…+56$$"
      ]
    },
    {
      "cell_type": "code",
      "execution_count": null,
      "metadata": {
        "id": "3nskts8hO2-G"
      },
      "outputs": [],
      "source": [
        "# Write your code here"
      ]
    },
    {
      "cell_type": "markdown",
      "metadata": {
        "id": "unljEhpsGEAO"
      },
      "source": [
        "#### **Problem 08**\n",
        "Write a Python program to calculate the factorial of a given number."
      ]
    },
    {
      "cell_type": "code",
      "execution_count": null,
      "metadata": {
        "id": "fM2hS3xlNBTo"
      },
      "outputs": [],
      "source": [
        "# Write your code here"
      ]
    },
    {
      "cell_type": "markdown",
      "metadata": {
        "id": "St2Rv2RkHdn9"
      },
      "source": [
        "#### **Problem 09**\n",
        "Write a program in Python to display the pattern like right angle triangle of star(*).\n",
        "The pattern like:\n",
        "```\n",
        "*\n",
        "**\n",
        "***\n",
        "****\n",
        "```\n"
      ]
    },
    {
      "cell_type": "code",
      "execution_count": null,
      "metadata": {
        "id": "u-GY4V34O4MF"
      },
      "outputs": [],
      "source": [
        "# Write your code here"
      ]
    },
    {
      "cell_type": "markdown",
      "metadata": {
        "id": "JI9hHY2RNVZX"
      },
      "source": [
        "#### **Problem 10**\n",
        "Write a program in Python to display the pattern like right angle triangle of star(*).\n",
        "The pattern like:\n",
        "```\n",
        "****\n",
        "***\n",
        "**\n",
        "*\n",
        "```"
      ]
    },
    {
      "cell_type": "code",
      "execution_count": 12,
      "metadata": {
        "id": "U_nBMhR9O44g"
      },
      "outputs": [],
      "source": [
        "# Write your code here"
      ]
    },
    {
      "cell_type": "markdown",
      "metadata": {
        "id": "DRuV-9jkH0ls"
      },
      "source": [
        "#### **Problem 11**\n",
        "Write a program in Python to display the pattern like right angle triangle of star(*).\n",
        "The pattern like:\n",
        "```\n",
        "   *\n",
        "  **\n",
        " ***\n",
        "****\n",
        "```"
      ]
    },
    {
      "cell_type": "code",
      "execution_count": null,
      "metadata": {
        "id": "OcIV2YYAO5gd"
      },
      "outputs": [],
      "source": [
        "# Write your code here"
      ]
    },
    {
      "cell_type": "markdown",
      "metadata": {
        "id": "siiy45psNHrx"
      },
      "source": [
        "#### **Problem 12**\n",
        "Write a program in Python to display the pattern like right angle triangle of star(*).\n",
        "The pattern like:\n",
        "```\n",
        "****\n",
        " ***\n",
        "  **\n",
        "   *\n",
        "```"
      ]
    },
    {
      "cell_type": "code",
      "execution_count": null,
      "metadata": {
        "id": "zh6XN1c6O6RT"
      },
      "outputs": [],
      "source": [
        "# Write your code here"
      ]
    },
    {
      "cell_type": "markdown",
      "metadata": {
        "id": "liFbng9GIBZE"
      },
      "source": [
        "#### **Problem 13**\n",
        "Write a program in Python to display the pattern like right angle triangle of star(*).\n",
        "The pattern like:\n",
        "```\n",
        "   *\n",
        "  ***\n",
        " *****\n",
        "*******\n",
        "```"
      ]
    },
    {
      "cell_type": "code",
      "execution_count": null,
      "metadata": {
        "id": "K_7DcR6vO671"
      },
      "outputs": [],
      "source": [
        "# Write your code here"
      ]
    },
    {
      "cell_type": "markdown",
      "metadata": {
        "id": "UyfVwcpzLgdI"
      },
      "source": [
        "#### **Problem 14**\n",
        "Take an integer from the user and check if the number is prime or not."
      ]
    },
    {
      "cell_type": "code",
      "execution_count": null,
      "metadata": {
        "id": "fX_tNtvnO7w2"
      },
      "outputs": [],
      "source": [
        "# Write your code here"
      ]
    },
    {
      "cell_type": "markdown",
      "metadata": {
        "id": "7ztTdealGiCW"
      },
      "source": [
        "#### **Problem 15**\n",
        "Display the Fibonacci Sequence for a given number n.\n",
        "$0, 1, 1, 2, 3, 5, 8, 13, ..., n$"
      ]
    },
    {
      "cell_type": "code",
      "execution_count": null,
      "metadata": {
        "id": "Eb7Yo5SoO8Xm"
      },
      "outputs": [],
      "source": [
        "# Write your code here"
      ]
    }
  ],
  "metadata": {
    "colab": {
      "collapsed_sections": [],
      "provenance": []
    },
    "kernelspec": {
      "display_name": "Python 3.10.6 64-bit",
      "language": "python",
      "name": "python3"
    },
    "language_info": {
      "codemirror_mode": {
        "name": "ipython",
        "version": 3
      },
      "file_extension": ".py",
      "mimetype": "text/x-python",
      "name": "python",
      "nbconvert_exporter": "python",
      "pygments_lexer": "ipython3",
      "version": "3.10.6 (tags/v3.10.6:9c7b4bd, Aug  1 2022, 21:53:49) [MSC v.1932 64 bit (AMD64)]"
    },
    "vscode": {
      "interpreter": {
        "hash": "b148fc9bfa8b60132af830e32e1690e4e023b803e92912df15b823b90141dda6"
      }
    }
  },
  "nbformat": 4,
  "nbformat_minor": 0
}
