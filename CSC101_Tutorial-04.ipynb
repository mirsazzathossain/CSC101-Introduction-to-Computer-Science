{
  "cells": [
    {
      "cell_type": "markdown",
      "metadata": {
        "id": "PGpM3QFCbeRK"
      },
      "source": [
        "## **More on Conditional Statements**\n",
        "In this tutorial we will explore more on conditional statements. We will learn about the nested conditional statements and how to use them in our programs. We will also learn to use the ternary operator in our programs."
      ]
    },
    {
      "cell_type": "markdown",
      "metadata": {},
      "source": [
        "#### **Problem 01**\n",
        "Input two numbers `a` and `b`. Find if a is divisible by b or not. You also need to account for the case when `b` is zero. If `b` is zero, print `Division by zero is not allowed.` Otherwise, find divisibility and the result of the division.\n",
        "\n",
        "**Sample Input:**\n",
        "```\n",
        "Enter a: 10\n",
        "Enter b: 5\n",
        "```\n",
        "\n",
        "**Sample Output:**\n",
        "```\n",
        "10 is divisible by 5 and the result of the division is 2.0\n",
        "```"
      ]
    },
    {
      "cell_type": "code",
      "execution_count": 1,
      "metadata": {
        "id": "VW1u1yO5o9Lw"
      },
      "outputs": [],
      "source": [
        "# Write your code here"
      ]
    },
    {
      "cell_type": "markdown",
      "metadata": {},
      "source": [
        "#### **Problem 02**\n",
        "The following snippet of code has both logical and syntax errors. Find and fix the errors.\n",
        "\n",
        "<img src=\"./images/Your%20Ill%2C%20Broke%20Friend.png\" width=\"700\" height=\"400\">"
      ]
    },
    {
      "cell_type": "code",
      "execution_count": 2,
      "metadata": {},
      "outputs": [],
      "source": [
        "# Write your code here"
      ]
    },
    {
      "cell_type": "markdown",
      "metadata": {},
      "source": [
        "#### **Problem 03**\n",
        "Given an integer `n` perform the following conditional actions:\n",
        "- If `n` is odd, print `Weird`\n",
        "- If `n` is even and in the inclusive range of `2` to `5`, print `Not Weird`\n",
        "- If `n` is even and in the inclusive range of `6` to `20`, print `Weird`\n",
        "- If `n` is even and greater than `20`, print `Not Weird`\n",
        "\n",
        "**Sample Input :**\n",
        "```\n",
        "Enter a number: 3\n",
        "```\n",
        "\n",
        "**Sample Output :**\n",
        "```\n",
        "Weird\n",
        "```"
      ]
    },
    {
      "cell_type": "code",
      "execution_count": 3,
      "metadata": {
        "id": "Oe9qTUBupBMU"
      },
      "outputs": [],
      "source": [
        "# Write your code here"
      ]
    },
    {
      "cell_type": "markdown",
      "metadata": {
        "id": "g-r9CsbHbgkP"
      },
      "source": [
        "#### **Problem 04**\n",
        "\n",
        "Abraham, Baristow and Christofer are three friends. They like to compare among themselves based on their scores in different competitive exams. Write a program which takes input of their scores in a competitive exam where they took part in and print their name according to their scores.\n",
        "\n",
        "**Sample Input :**\n",
        "```\n",
        "Abraham’s Score:58\n",
        "Bairstow’s Score: 81\n",
        "Christofer’s Score:71\n",
        "```\n",
        "**Sample Output:**\n",
        "```\n",
        "Bairstow gets highest, then Christofer and Abraham gets lowest\n",
        "```\n"
      ]
    },
    {
      "cell_type": "code",
      "execution_count": 4,
      "metadata": {
        "id": "e1dXyLy6pGIN"
      },
      "outputs": [],
      "source": [
        "# Write your code here"
      ]
    },
    {
      "cell_type": "markdown",
      "metadata": {
        "id": "fnR8wh8mkFLM"
      },
      "source": [
        "#### **Problem 05**\n",
        "Ask the user if it is raining and convert their answer to lowercase so it doesn’t matter what case they type it in. \n",
        "\n",
        "If they answer “yes” or “y”, ask if it is windy. \n",
        "\n",
        "If they answer “yes” or “y” to this second question, display the answer “It is too windy for an umbrella, stay home today”, otherwise display the message “Take an umbrella”.\n",
        "\n",
        "If they answer “no” or “n” to the first question, ask them if the temperature is above 32 degrees. \n",
        "\n",
        "If they answer “yes” or “y”, display the message “You are advised to carry saline and cold water with you”. \n",
        "\n",
        "If they answer “no” or “n”, display the message “Enjoy your day”."
      ]
    },
    {
      "cell_type": "code",
      "execution_count": 5,
      "metadata": {
        "id": "YFy52v8EpZT3"
      },
      "outputs": [],
      "source": [
        "# Write your code here"
      ]
    },
    {
      "cell_type": "markdown",
      "metadata": {},
      "source": [
        "#### **Problem 06**\n",
        "For this problem, you have to take two numbers as input. If the difference between the two numbers is greater than 10, then you will do nothing. If the difference is less than or equal to 10, then you have to check whether the sum of the two numbers is greater than 10 or not. If the sum is greater than 10, then you have to print the sum of the two numbers. If the sum is less than or equal to 10, then you have to print the difference of the two numbers.\n",
        "\n",
        "**Sample Input :**\n",
        "```\n",
        "Enter the first number: 5\n",
        "Enter the second number: 6\n",
        "```\n",
        "**Sample Output:**\n",
        "```\n",
        "The difference of the two numbers is 1\n",
        "```"
      ]
    },
    {
      "cell_type": "code",
      "execution_count": 6,
      "metadata": {
        "id": "C2jUdU0fpI6k"
      },
      "outputs": [],
      "source": [
        "# Write your code here"
      ]
    },
    {
      "cell_type": "markdown",
      "metadata": {
        "id": "SBTUcE0WeY_o"
      },
      "source": [
        "#### **Problem 07**\n",
        "Write a python program to input electricity unit charge and calculate the total electricity bill according to the given condition: \n",
        "\n",
        "  * For first 50 units Rs. 0.50/unit \n",
        "  * For next 100 units Rs. 0.75/unit \n",
        "  * For next 100 units Rs. 1.20/unit \n",
        "  * For unit above 250 Rs. 1.50/unit \n",
        "  * An additional surcharge of 20% is added to the bill\n",
        "\n",
        "How to calculate electricity bill using if else. Write a program to find electricity bill.\n",
        "\n",
        "**Sample Input :**\n",
        "```\n",
        "Enter total units consumed: 150 \n",
        "```\n",
        "**Sample Output:**\n",
        "```\n",
        "Electricity Bill = Rs. 120.00\n",
        "```\n"
      ]
    },
    {
      "cell_type": "code",
      "execution_count": 7,
      "metadata": {
        "id": "Vvi-psq6pNFl"
      },
      "outputs": [],
      "source": [
        "# Write your code here"
      ]
    },
    {
      "cell_type": "markdown",
      "metadata": {
        "id": "SO1eUOkmcSkI"
      },
      "source": [
        "#### **Problem 08**\n",
        "A country has currencies of following denominations: 1000, 500, 100, 50, 10, 5, 1, 0.25, 0.10, 0.05 and 0.01. (Caution: No denominations of 20.00, 0.050) Write a program in Python that would input a money amount, and would break the money amount into sum of largest possible denominations. \n",
        "\n",
        "**Sample Input:**\n",
        "```\n",
        "Enter the money amount: 5731.68 \n",
        "```\n",
        "**Sample Output:** \n",
        "```\n",
        "5 x 1000\n",
        "1 x 500\n",
        "2 x 100\n",
        "3 x 10\n",
        "1 x 1\n",
        "2 x 0.25 \n",
        "1 x 0.10 \n",
        "1 x 0.05 \n",
        "3 x 0.01\n",
        "```"
      ]
    },
    {
      "cell_type": "code",
      "execution_count": 8,
      "metadata": {
        "id": "lX2JOoVzpii-"
      },
      "outputs": [],
      "source": [
        "# Write your code here"
      ]
    },
    {
      "cell_type": "markdown",
      "metadata": {
        "id": "-STyTfMlcdyU"
      },
      "source": [
        "#### **Problem 09**\n",
        "Again, cosider the grading system problem and the grading system used in the [Ministry of Education](http://www.educationboard.gov.bd/computer/grading_system.php) website link (follow the link marked in blue color). \n",
        "\n",
        "Now, you need to find the final grad of a student. For simplicity, let's assume there are only three subjects. Bangla, English and Math. You will take three inputs as the scores of a student on those subjects. Find the letter grade for each subject. Also, find the grade point of each subject to calculate the  final grade of the student.\n",
        "\n",
        "Hint: Basically you have to calculate the average of those grade points.  \n",
        "\n",
        "\n",
        "Sample Input :\n",
        "```\n",
        "Enter your score in Bangla: 85\n",
        "Enter your score in English: 80\n",
        "Enter your score in Math: 70\n",
        "```\n",
        "Sample Output:\n",
        "```\n",
        "You got A+ on Bangla\n",
        "You got A+ on English\n",
        "You got A on Math\n",
        "Your final grade is 4.67\n",
        "```\n"
      ]
    },
    {
      "cell_type": "code",
      "execution_count": 9,
      "metadata": {
        "id": "z0gjUWRipp6G"
      },
      "outputs": [],
      "source": [
        "# Write your code here"
      ]
    },
    {
      "cell_type": "markdown",
      "metadata": {
        "id": "Z00KILObjWIJ"
      },
      "source": [
        "#### **Problem 10**\n",
        "You have been offered two tuitions and you need to decide which one you would pick. All of the following criteria must be met for a tuition to be considered viable:\n",
        "  1.\tThe tuition must pay at least BDT 8000 per month.\n",
        "  2.\tThe tuition must be within 5 kilometers of your residence.\n",
        "  3.\tIf any of the above criteria is not met, you simply reject the tuition and pick the other one.\n",
        "  4.\tIf both tuitions do not meet the criterias above, you reject both of them.\n",
        "  5.\tYou will accept the tuition that pays the highest. If both pay the same then you will pick the one that is closest to your house.\n",
        "\t\n",
        "Write a function that takes the monthly salary of the two tuition and the distances of the two tuition from your house (in meters) as parameters. Then, compare them in terms of the mentioned criteria and return the name/number of the tuition you should pick. If no tuition can be picked, return None from the function. Afterwards, print out the result. Sample:\n",
        "\n",
        "\n",
        "Sample Run 1:\n",
        "```\n",
        "Enter the monthly salary of first tuition: BDT 6000\n",
        "Enter the distance of the first tuition from residence (in metes): 1500\n",
        "\n",
        "Enter the monthly salary of second tuition: BDT 9500\n",
        "Enter the distance of the second tuition from residence (in meters): 2200\n",
        "\n",
        "You should pick Tuition Offer 2.\n",
        "```\n",
        "Sample Run 2:\n",
        "```\n",
        "Enter the monthly salary of first tuition: BDT 9000\n",
        "Enter the distance of the first tuition from residence (in meters): 1500\n",
        "\n",
        "Enter the monthly salary of second tuition: BDT 9000\n",
        "Enter the distance of the second tuition from residence (in meters): 2200\n",
        "\n",
        "You should pick Tuition Offer 1.\n",
        "```\n",
        "Sample Run 3:\n",
        "```\n",
        "Enter the monthly salary of first tuition: BDT 4000\n",
        "Enter the distance of the first tuition from residence (in meters): 1500\n",
        "\n",
        "Enter the monthly salary of second tuition: BDT 9500\n",
        "Enter the distance of the second tuition from residence (in meters): 10000\n",
        "\n",
        "You should reject both tuition offers.\n",
        "```"
      ]
    },
    {
      "cell_type": "code",
      "execution_count": 10,
      "metadata": {
        "id": "cPvUjm3Lprou"
      },
      "outputs": [],
      "source": [
        "# Write your code here"
      ]
    }
  ],
  "metadata": {
    "colab": {
      "collapsed_sections": [],
      "provenance": []
    },
    "kernelspec": {
      "display_name": "Python 3.10.6 64-bit",
      "language": "python",
      "name": "python3"
    },
    "language_info": {
      "codemirror_mode": {
        "name": "ipython",
        "version": 3
      },
      "file_extension": ".py",
      "mimetype": "text/x-python",
      "name": "python",
      "nbconvert_exporter": "python",
      "pygments_lexer": "ipython3",
      "version": "3.10.6"
    },
    "vscode": {
      "interpreter": {
        "hash": "b148fc9bfa8b60132af830e32e1690e4e023b803e92912df15b823b90141dda6"
      }
    }
  },
  "nbformat": 4,
  "nbformat_minor": 0
}
