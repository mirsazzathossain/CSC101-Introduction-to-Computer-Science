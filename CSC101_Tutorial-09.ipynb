{
 "cells": [
  {
   "attachments": {},
   "cell_type": "markdown",
   "metadata": {},
   "source": [
    "## **More on Functions**\n",
    "\n",
    "In this tutorial, we will increase our understanding of functions. We will solve a number of problems that combine the concepts of lists, tuples, and functions."
   ]
  },
  {
   "attachments": {},
   "cell_type": "markdown",
   "metadata": {},
   "source": [
    "#### **Problem - 01**\n",
    "\n",
    "Write the following functions:\n",
    "\n",
    "* `summaation` - returns the sum of all the elements in a list or tuple\n",
    "* `average` - returns the average of all the elements in a list or tuple\n",
    "* `maximum` - returns the maximum element in a list or tuple\n",
    "* `minimum` - returns the minimum element in a list or tuple\n",
    "\n",
    "Write theses functions in a way that they can be used with both lists and tuples.\n",
    "\n",
    "Check your functions with the following code:\n",
    "```python\n",
    "print(summaation([1, 2, 3, 4, 5]))\n",
    "print(summaation((1, 2, 3, 4, 5)))\n",
    "print(average([1, 2, 3, 4, 5]))\n",
    "print(average((1, 2, 3, 4, 5)))\n",
    "print(maximum([1, 2, 3, 4, 5]))\n",
    "print(maximum((1, 2, 3, 4, 5)))\n",
    "print(minimum([1, 2, 3, 4, 5]))\n",
    "print(minimum((1, 2, 3, 4, 5)))\n",
    "```\n",
    "\n",
    "The output should be:\n",
    "\n",
    "    15\n",
    "    15\n",
    "    3.0\n",
    "    3.0\n",
    "    5\n",
    "    5\n",
    "    1\n",
    "    1\n",
    "\n",
    "If it is not, then you have to debug your code."
   ]
  },
  {
   "cell_type": "code",
   "execution_count": null,
   "metadata": {},
   "outputs": [],
   "source": [
    "# Write your code here"
   ]
  },
  {
   "attachments": {},
   "cell_type": "markdown",
   "metadata": {},
   "source": [
    "#### **Problem - 02**\n",
    "\n",
    "Write a function named `khoj_the_search` that takes a list or tuple and a value as arguments. The function should return the index of the first occurrence of the value in the list or tuple. If the value is not found, the function should return -1.\n",
    "\n",
    "Check your function with the following code:\n",
    "```python\n",
    "print(khoj_the_search([1, 2, 3, 4, 5], 3))\n",
    "print(khoj_the_search([1, 2, 3, 4, 5], 6))\n",
    "print(khoj_the_search((1, 2, 3, 4, 5), 3))\n",
    "print(khoj_the_search((1, 2, 3, 4, 5), 6))\n",
    "```\n",
    "The output should be:\n",
    "\n",
    "    2\n",
    "    -1\n",
    "    2\n",
    "    -1\n",
    "\n",
    "If it is not, then you have to debug your function."
   ]
  },
  {
   "cell_type": "code",
   "execution_count": null,
   "metadata": {},
   "outputs": [],
   "source": [
    "# Write your code here"
   ]
  },
  {
   "attachments": {},
   "cell_type": "markdown",
   "metadata": {},
   "source": [
    "#### **Problem - 03**\n",
    "Write a function named `count_occurrences` that takes a list or tuple and a value as arguments. The function should return the number of times the value occurs in the list or tuple.\n",
    "\n",
    "Check you function with the following code:\n",
    "\n",
    "```python\n",
    "print(count_occurrences([1, 5, 2, 3, 4, 5, 6, 7, 8, 5, 9, 10], 5))\n",
    "print(count_occurrences([1, 5, 2, 3, 4, 5, 6, 7, 8, 5, 9, 10], 11))\n",
    "print(count_occurrences((1, 5, 2, 3, 4, 5, 6, 7, 8, 5, 9, 10), 5))\n",
    "print(count_occurrences((1, 5, 2, 3, 4, 5, 6, 7, 8, 5, 9, 10), 11))\n",
    "```\n",
    "\n",
    "The output should be:\n",
    "\n",
    "    3\n",
    "    0\n",
    "    3\n",
    "    0\n",
    "\n",
    "If it is not, then you have to debug your function."
   ]
  },
  {
   "cell_type": "code",
   "execution_count": null,
   "metadata": {},
   "outputs": [],
   "source": [
    "# Write your code here"
   ]
  },
  {
   "attachments": {},
   "cell_type": "markdown",
   "metadata": {},
   "source": [
    "#### **Problem - 04**\n",
    "\n",
    "Write a function named `reverse_it` that takes a list or tuple as an argument and returns a new list or tuple in reverse order. Do not use the built-in `reverse` function.\n",
    "\n",
    "Check your function with the following code:\n",
    "```python\n",
    "print(reverse_it([1, 2, 3, 4, 5]))\n",
    "print(reverse_it((1, 2, 3, 4, 5)))\n",
    "```\n",
    "\n",
    "The output should be:\n",
    "\n",
    "    [5, 4, 3, 2, 1]\n",
    "    (5, 4, 3, 2, 1)\n",
    "\n",
    "If it is not, then you have to debug your function."
   ]
  },
  {
   "cell_type": "code",
   "execution_count": null,
   "metadata": {},
   "outputs": [],
   "source": [
    "# Write your code here"
   ]
  },
  {
   "attachments": {},
   "cell_type": "markdown",
   "metadata": {},
   "source": [
    "#### **Problem - 05**\n",
    "\n",
    "Write a function named `is_sorted` that takes a list or tuple of numbers as an argument and returns `True` if the list or tuple is sorted in ascending order and `False` otherwise. Do not use the built-in `sort` function.\n",
    "\n",
    "Check your function with the following code:\n",
    "```python\n",
    "print(is_sorted([1, 2, 3, 4, 5]))\n",
    "print(is_sorted([1, 2, 3, 4, 5, 4]))\n",
    "print(is_sorted((1, 2, 3, 4, 5)))\n",
    "print(is_sorted((1, 2, 3, 4, 5, 4)))\n",
    "```\n",
    "\n",
    "The output should be:\n",
    "\n",
    "    True\n",
    "    False\n",
    "    True\n",
    "    False\n",
    "\n",
    "If it is not, then you have to debug your function."
   ]
  },
  {
   "cell_type": "code",
   "execution_count": null,
   "metadata": {},
   "outputs": [],
   "source": [
    "# Write your code here"
   ]
  },
  {
   "attachments": {},
   "cell_type": "markdown",
   "metadata": {},
   "source": [
    "#### **Problem - 06**\n",
    "\n",
    "Write a function named `insert_last` that takes a tuple and a value as arguments. The function should return a new tuple with the value inserted at the end.\n",
    "\n",
    "Check your function with the following code:\n",
    "```python\n",
    "print(insert_last((1, 2, 3, 4, 5), 6))\n",
    "print(insert_last((1, 2, 3, 4, 5), 0))\n",
    "```\n",
    "\n",
    "The output should be:\n",
    "\n",
    "    (1, 2, 3, 4, 5, 6)\n",
    "    (1, 2, 3, 4, 5, 0)\n",
    "\n",
    "If it is not, then you have to debug your function."
   ]
  },
  {
   "cell_type": "code",
   "execution_count": null,
   "metadata": {},
   "outputs": [],
   "source": [
    "# Write your code here"
   ]
  },
  {
   "attachments": {},
   "cell_type": "markdown",
   "metadata": {},
   "source": [
    "#### **Problem - 07**\n",
    "\n",
    "Write a function named `insert_at` that takes a tuple, a value, and an index as arguments. The function should return a new tuple with the value inserted at the given index.\n",
    "\n",
    "Check your function with the following code:\n",
    "```python\n",
    "print(insert_at((1, 2, 3, 4, 5), 6, 0))\n",
    "print(insert_at((1, 2, 3, 4, 5), 6, 2))\n",
    "print(insert_at((1, 2, 3, 4, 5), 6, 5))\n",
    "```\n",
    "\n",
    "The output should be:\n",
    "\n",
    "    (6, 1, 2, 3, 4, 5)\n",
    "    (1, 2, 6, 3, 4, 5)\n",
    "    (1, 2, 3, 4, 5, 6)\n",
    "\n",
    "If it is not, then you have to debug your function."
   ]
  },
  {
   "cell_type": "code",
   "execution_count": null,
   "metadata": {},
   "outputs": [],
   "source": [
    "# Write your code here"
   ]
  },
  {
   "attachments": {},
   "cell_type": "markdown",
   "metadata": {},
   "source": [
    "#### **Problem - 08**\n",
    "\n",
    "Write a function named `fevicol` that takes two tuples as arguments. The function should return a new tuple that contains the elements from the first tuple followed by the elements from the second tuple.\n",
    "\n",
    "Check your function with the following code:\n",
    "```python\n",
    "print(fevicol((1, 2, 3, 4, 5), (6, 7, 8, 9, 10)))\n",
    "print(fevicol((1, 2, 3, 4, 5), ()))\n",
    "print(fevicol((), (6, 7, 8, 9, 10)))\n",
    "print(fevicol((), ()))\n",
    "```\n",
    "\n",
    "The output should be:\n",
    "\n",
    "    (1, 2, 3, 4, 5, 6, 7, 8, 9, 10)\n",
    "    (1, 2, 3, 4, 5)\n",
    "    (6, 7, 8, 9, 10)\n",
    "    ()\n",
    "\n",
    "If it is not, then you have to debug your function."
   ]
  },
  {
   "cell_type": "code",
   "execution_count": null,
   "metadata": {},
   "outputs": [],
   "source": [
    "# Write your code here"
   ]
  },
  {
   "attachments": {},
   "cell_type": "markdown",
   "metadata": {},
   "source": [
    "#### **Problem - 09**\n",
    "\n",
    "Write a function named `remove_first` that takes a tuple and a value as arguments. The function should return a new tuple with the first occurrence of the value removed. If the value is not found, the function should return the original tuple.\n",
    "\n",
    "Check your function with the following code:\n",
    "```python\n",
    "print(remove_first((1, 2, 3, 4, 5), 3))\n",
    "print(remove_first((1, 2, 3, 4, 5), 6))\n",
    "print(remove_first((1, 2, 3, 4, 5, 3), 3))\n",
    "print(remove_first((1, 2, 3, 4, 5, 3), 6))\n",
    "```\n",
    "\n",
    "The output should be:\n",
    "\n",
    "    (1, 2, 4, 5)\n",
    "    (1, 2, 3, 4, 5)\n",
    "    (1, 2, 4, 5, 3)\n",
    "    (1, 2, 3, 4, 5, 3)\n",
    "\n",
    "If it is not, then you have to debug your function."
   ]
  },
  {
   "cell_type": "code",
   "execution_count": null,
   "metadata": {},
   "outputs": [],
   "source": [
    "# Write your code here"
   ]
  },
  {
   "attachments": {},
   "cell_type": "markdown",
   "metadata": {},
   "source": [
    "#### **Problem - 10**\n",
    "\n",
    "Write a function named `remove_from` that takes a tuple, a value, and an index as arguments. The function should return a new tuple with the value removed from the given index. If the index is out of range, the function should return the original tuple.\n",
    "\n",
    "Check your function with the following code:\n",
    "```python\n",
    "print(remove_from((1, 2, 3, 4, 5), 3, 0))\n",
    "print(remove_from((1, 2, 3, 4, 5), 3, 2))\n",
    "print(remove_from((1, 2, 3, 4, 5), 3, 5))\n",
    "print(remove_from((1, 2, 3, 4, 5), 6, 2))\n",
    "```\n",
    "\n",
    "The output should be:\n",
    "\n",
    "    (2, 3, 4, 5)\n",
    "    (1, 2, 4, 5)\n",
    "    (1, 2, 3, 4, 5)\n",
    "    (1, 2, 3, 4, 5)\n",
    "\n",
    "If it is not, then you have to debug your function."
   ]
  },
  {
   "cell_type": "code",
   "execution_count": null,
   "metadata": {},
   "outputs": [],
   "source": [
    "# Write your code here"
   ]
  }
 ],
 "metadata": {
  "kernelspec": {
   "display_name": "Python 3",
   "language": "python",
   "name": "python3"
  },
  "language_info": {
   "name": "python",
   "version": "3.10.6 (tags/v3.10.6:9c7b4bd, Aug  1 2022, 21:53:49) [MSC v.1932 64 bit (AMD64)]"
  },
  "orig_nbformat": 4,
  "vscode": {
   "interpreter": {
    "hash": "b148fc9bfa8b60132af830e32e1690e4e023b803e92912df15b823b90141dda6"
   }
  }
 },
 "nbformat": 4,
 "nbformat_minor": 2
}
