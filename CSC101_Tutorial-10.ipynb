{
 "cells": [
  {
   "attachments": {},
   "cell_type": "markdown",
   "metadata": {},
   "source": [
    "## **Sets and Dictionaries**\n",
    "\n",
    "In this tutorial, we will learn about two more data structures in Python: sets and dictionaries. We will learn about the different operations that can be performed on sets and dictionaries. We will also learn about the different methods that can be used on sets and dictionaries. We will solve a number of problems to get a better understanding of these concepts."
   ]
  },
  {
   "attachments": {},
   "cell_type": "markdown",
   "metadata": {},
   "source": [
    "#### **Problem - 01**\n",
    "\n",
    "Create a set named `my_set` with the following elements: `1, 2, 3, 4, 5, 6, 7, 8, 9, 10`. Print each element of the set using a for loop."
   ]
  },
  {
   "cell_type": "code",
   "execution_count": null,
   "metadata": {},
   "outputs": [],
   "source": [
    "# Write your code here"
   ]
  },
  {
   "attachments": {},
   "cell_type": "markdown",
   "metadata": {},
   "source": [
    "#### **Context for problem - 2 to 5**\n",
    "In a school, there are 20 students. Each student has a unique roll number. Among these 20 students, 10 students play cricket, 15 students play football and 5 students play both cricket and football. Create a set named `cricket` that contains the roll numbers of the students who play cricket. Create a set named `football` that contains the roll numbers of the students who play football and solve the prblems 2 to 5."
   ]
  },
  {
   "cell_type": "code",
   "execution_count": null,
   "metadata": {},
   "outputs": [],
   "source": [
    "# Write your code to create two sets"
   ]
  },
  {
   "attachments": {},
   "cell_type": "markdown",
   "metadata": {},
   "source": [
    "#### **Problem - 02**\n",
    "\n",
    "Print roll number of all the students who perticipate in at least one of the sports."
   ]
  },
  {
   "cell_type": "code",
   "execution_count": null,
   "metadata": {},
   "outputs": [],
   "source": [
    "# Write your code here"
   ]
  },
  {
   "attachments": {},
   "cell_type": "markdown",
   "metadata": {},
   "source": [
    "#### **Problem - 03**\n",
    "\n",
    "Print the roll numbers of the students who play both cricket and football."
   ]
  },
  {
   "cell_type": "code",
   "execution_count": null,
   "metadata": {},
   "outputs": [],
   "source": [
    "# Write your code here"
   ]
  },
  {
   "attachments": {},
   "cell_type": "markdown",
   "metadata": {},
   "source": [
    "#### **Problem - 04**\n",
    "\n",
    "Print the roll numbers of the students who play cricket only cricket and not football. Also print the roll numbers of the students who play football only and not cricket."
   ]
  },
  {
   "cell_type": "code",
   "execution_count": null,
   "metadata": {},
   "outputs": [],
   "source": [
    "# Write your code here"
   ]
  },
  {
   "attachments": {},
   "cell_type": "markdown",
   "metadata": {},
   "source": [
    "#### **Problem - 05**\n",
    "\n",
    "Print the roll numbers of the students who play cricket or football but not both."
   ]
  },
  {
   "cell_type": "code",
   "execution_count": null,
   "metadata": {},
   "outputs": [],
   "source": [
    "# Write your code here"
   ]
  },
  {
   "attachments": {},
   "cell_type": "markdown",
   "metadata": {},
   "source": [
    "#### **Problem - 06**\n",
    "\n",
    "Create a dictionary named `result` that contains the roll numbers of the students as keys and the marks obtained by them in a test as values. Print the roll numbers of the students who obtained marks greater than 50."
   ]
  },
  {
   "cell_type": "code",
   "execution_count": null,
   "metadata": {},
   "outputs": [],
   "source": [
    "# Write your code here"
   ]
  },
  {
   "attachments": {},
   "cell_type": "markdown",
   "metadata": {},
   "source": [
    "#### **Problem - 07**\n",
    "\n",
    "Take student's roll number and marks as input from the user and store them in the dictionary `result`. Sort the dictionary in ascending order of marks if the marks are equal then sort in ascending order of roll number. Print the roll number and marks of the students in the sorted order."
   ]
  },
  {
   "cell_type": "code",
   "execution_count": null,
   "metadata": {},
   "outputs": [],
   "source": [
    "# Write your code here"
   ]
  },
  {
   "attachments": {},
   "cell_type": "markdown",
   "metadata": {},
   "source": [
    "#### **Problem - 08**\n",
    "\n",
    "You are given a task to create a voting system that will be used to elect a Class Representative. The voting system will be used by the students of a class. Take the roll number of the students as input from the user as a vote. If the roll number already exists in the dictionary then increase the count of the roll number by 1. If the roll number does not exist in the dictionary then add the roll number to the dictionary and set the count to 1. Keep taking votes until the user enters -1. Print the roll number of the student who has the maximum number of votes and the number of votes he/she has received in the following format: `The student with roll number <roll number> has received the maximum number of votes which is <number of votes>.`"
   ]
  },
  {
   "cell_type": "code",
   "execution_count": null,
   "metadata": {},
   "outputs": [],
   "source": [
    "# Write your code here"
   ]
  },
  {
   "attachments": {},
   "cell_type": "markdown",
   "metadata": {},
   "source": [
    "#### **Problem - 09**\n",
    "\n",
    "Write a program to merge the following two dictionaries:\n",
    "\n",
    "```python\n",
    "dict1 = {John: 40, Peter: 45}\n",
    "dict2 = {Charles: 50, Mike: 55, John: 60}\n",
    "```"
   ]
  },
  {
   "cell_type": "code",
   "execution_count": null,
   "metadata": {},
   "outputs": [],
   "source": [
    "# Write your code here"
   ]
  },
  {
   "attachments": {},
   "cell_type": "markdown",
   "metadata": {},
   "source": [
    "#### **Problem - 10**\n",
    "\n",
    "Write a python program to compute the frequency of the words from the input. The output should print the words in ascending order of frequency. If the frequency of two words is the same then print the words in ascending order of the words. For example, if the input string is `New to Python or choosing between Python 2 and Python 3? Read Python 2 or Python 3.` then the output should be: `{'2': 2, '3': 2, 'Python': 5, 'or': 2, 'and': 1, 'between': 1, 'choosing': 1, 'New': 1, 'Read': 1, 'to': 1}`"
   ]
  },
  {
   "cell_type": "code",
   "execution_count": null,
   "metadata": {},
   "outputs": [],
   "source": [
    "# Write your code here"
   ]
  }
 ],
 "metadata": {
  "kernelspec": {
   "display_name": "Python 3",
   "language": "python",
   "name": "python3"
  },
  "language_info": {
   "name": "python",
   "version": "3.10.6 (tags/v3.10.6:9c7b4bd, Aug  1 2022, 21:53:49) [MSC v.1932 64 bit (AMD64)]"
  },
  "orig_nbformat": 4,
  "vscode": {
   "interpreter": {
    "hash": "b148fc9bfa8b60132af830e32e1690e4e023b803e92912df15b823b90141dda6"
   }
  }
 },
 "nbformat": 4,
 "nbformat_minor": 2
}
