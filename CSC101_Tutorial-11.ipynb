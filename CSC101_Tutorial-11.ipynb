{
 "cells": [
  {
   "attachments": {},
   "cell_type": "markdown",
   "metadata": {},
   "source": [
    "## **Files**\n",
    "\n",
    "In this session, we will learn about files. We will learn how to read and write files in our programs. We will also learn about the different modes of opening files. We will solve a number of problems to get a better understanding of these concepts."
   ]
  },
  {
   "attachments": {},
   "cell_type": "markdown",
   "metadata": {},
   "source": [
    "#### **Problem - 01**\n",
    "\n",
    "Write a python program to get directory path of a existing file and print the directory path. Then, change the directory path to a new directory and print the new directory path."
   ]
  },
  {
   "cell_type": "code",
   "execution_count": null,
   "metadata": {},
   "outputs": [],
   "source": [
    "# Write your code here"
   ]
  },
  {
   "attachments": {},
   "cell_type": "markdown",
   "metadata": {},
   "source": [
    "#### **Problem - 02**\n",
    "Write a python program to create a new directory and print the directory path. Then, delete the directory."
   ]
  },
  {
   "cell_type": "code",
   "execution_count": null,
   "metadata": {},
   "outputs": [],
   "source": [
    "# Write your code here"
   ]
  },
  {
   "attachments": {},
   "cell_type": "markdown",
   "metadata": {},
   "source": [
    "#### **Problem - 03**\n",
    "Write Python code to open a file with name “test_1.txt” in write mode. Write your name in the file and close the file.\n",
    "\n",
    "Check whether you closed the file correctly or not."
   ]
  },
  {
   "cell_type": "code",
   "execution_count": null,
   "metadata": {},
   "outputs": [],
   "source": [
    "# Write your code here"
   ]
  },
  {
   "attachments": {},
   "cell_type": "markdown",
   "metadata": {},
   "source": [
    "#### **Problem - 04**\n",
    "```python\n",
    "fo = open(\"F:\\\\testfile.txt\", \"w\")\n",
    "\n",
    "print('file name: ', fo.name)\n",
    "print('file mode: ', fo.mode)\n",
    "print('File head position: ', fo.tell())\n",
    "\n",
    "if fo.mode == 'w':\n",
    "    fo.write('This is file learning class!\\n)\n",
    "    print('File head position: ', fo.tell())\n",
    "fo.close()\n",
    "\n",
    "fo = open(\"F:\\\\testfile.txt\", \"r\")\n",
    "print('file mode: ', fo.mode)\n",
    "\n",
    "print('File head position: ', fo.tell())\n",
    "\n",
    "if fo.mode == 'r':\n",
    "    fileData = fo.read(15)\n",
    "    print('file data: ', fileData)\n",
    "    print('File head position: ', fo.tell())\n",
    "    \n",
    "fo.close()\n",
    "```\n",
    "\n",
    "Trace out the output of the above code."
   ]
  },
  {
   "attachments": {},
   "cell_type": "markdown",
   "metadata": {},
   "source": [
    "#### **Problem - 05**\n",
    "Write a function in Python to read lines from a text file \"notes.txt\", to find and display the occurrence of the word \"the\".\n",
    "\n",
    "For example: If the content of the file is:\n",
    "\"India is the fastest-growing economy. India is looking for more investments around the globe. The whole world is looking at India as a great market. Most of the Indians can foresee the heights that India is capable of reaching.\"\n",
    "\n",
    "The output should be 5."
   ]
  },
  {
   "cell_type": "code",
   "execution_count": null,
   "metadata": {},
   "outputs": [],
   "source": [
    "# Write your code here"
   ]
  },
  {
   "attachments": {},
   "cell_type": "markdown",
   "metadata": {},
   "source": [
    "#### **Problem - 06**\n",
    "Write a function in python to read the content from a text file \"poem.txt\" line by line and display the same on screen."
   ]
  },
  {
   "cell_type": "code",
   "execution_count": null,
   "metadata": {},
   "outputs": [],
   "source": [
    "# Write your code here"
   ]
  },
  {
   "attachments": {},
   "cell_type": "markdown",
   "metadata": {},
   "source": [
    "#### **Problem - 07**\n",
    "Write a function in Python to count and display the total number of words in a text file."
   ]
  },
  {
   "cell_type": "code",
   "execution_count": null,
   "metadata": {},
   "outputs": [],
   "source": [
    "# Write your code here"
   ]
  },
  {
   "attachments": {},
   "cell_type": "markdown",
   "metadata": {},
   "source": [
    "#### **Problem - 08**\n",
    "Write Python code to open a file with name “test_1.txt” in **write and read** mode. Write your name in the file, Read whatever is written the file from the beginning, print the information from the file to the user and close the file.\n",
    "\n",
    "Check whether you closed the file correctly or not."
   ]
  },
  {
   "cell_type": "code",
   "execution_count": null,
   "metadata": {},
   "outputs": [],
   "source": [
    "# Write your code here"
   ]
  },
  {
   "attachments": {},
   "cell_type": "markdown",
   "metadata": {},
   "source": [
    "#### **Problem - 09**\n",
    "Write Python code to open a file with name “test_1.txt” in **read and write** mode. Write your name in the file, Read whatever is written the file from the beginning, re-write something good greetings in the file. Again read the content of the file from the beginning and print the information from the file to the user and close the file.\n",
    "\n",
    "Check whether you closed the file correctly or not."
   ]
  },
  {
   "cell_type": "code",
   "execution_count": null,
   "metadata": {},
   "outputs": [],
   "source": [
    "# Write your code here"
   ]
  },
  {
   "attachments": {},
   "cell_type": "markdown",
   "metadata": {},
   "source": [
    "#### **Problem - 10**\n",
    "You are given a file called 'students_result.txt'. The property of the file is\n",
    "\n",
    "* The 1st line of the will be 'ID CGPA'\n",
    "* In every single line you are given student's id, cgpa resutls (2 digit float number)\n",
    "\n",
    "Now, consider the following problems\n",
    "\n",
    "* Enter your id and cgpa from the console. And find your ranking according to the result. If the cgpa isn't in the text file print 'Is My Result Missing?'\n",
    "* Enter your id (this time don't enter cgpa). Find your cgpa from the file by your id. Now also find your rank. If your id isn't in the file print 'My ID isn't found'"
   ]
  },
  {
   "cell_type": "code",
   "execution_count": null,
   "metadata": {},
   "outputs": [],
   "source": [
    "# Write your code here"
   ]
  }
 ],
 "metadata": {
  "kernelspec": {
   "display_name": "Python 3",
   "language": "python",
   "name": "python3"
  },
  "language_info": {
   "name": "python",
   "version": "3.10.6 (tags/v3.10.6:9c7b4bd, Aug  1 2022, 21:53:49) [MSC v.1932 64 bit (AMD64)]"
  },
  "orig_nbformat": 4,
  "vscode": {
   "interpreter": {
    "hash": "b148fc9bfa8b60132af830e32e1690e4e023b803e92912df15b823b90141dda6"
   }
  }
 },
 "nbformat": 4,
 "nbformat_minor": 2
}
