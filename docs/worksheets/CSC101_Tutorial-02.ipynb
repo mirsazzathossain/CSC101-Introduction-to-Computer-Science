{
  "cells": [
    {
      "cell_type": "markdown",
      "metadata": {
        "id": "muWc9gLMWZmg"
      },
      "source": [
        "# **Boolean and arithmetic operators**\n",
        "This tutorial will introduce you to the boolean and arithmetic operators in Python. You will learn how to use these operators to perform logical and mathematical operations on variables and values by solving a series of exercises."
      ]
    },
    {
      "cell_type": "markdown",
      "metadata": {
        "id": "uw317-BdVhu0"
      },
      "source": [
        "### **Problem-01**\n",
        "Check the outputs by running the following code and justify them:\n",
        "\n",
        "\n",
        "```python\n",
        "True and True\n",
        "False and True\n",
        "1 == 1 and 2 == 1\n",
        "\"test\" == \"test\"\n",
        "1 == 1 or 2 != 1\n",
        "True and 1 == 1\n",
        "False and 0 != 0\n",
        "True or 1 == 1\n",
        "\"test\" == \"testing\"\n",
        "1 != 0 and 2 == 1\n",
        "\"y\" in \"xylophone\"\n",
        "\"test\" == 1\n",
        "not (True and False)\n",
        "not (1 == 1 and 0 != 1)\n",
        "not (10 == 1 or 1000 == 1000)\n",
        "not (1 != 10 or 3 == 4)\n",
        "not (\"testing\" == \"testing\" and \"Zed\" == \"Cool Guy\")\n",
        "1 == 1 and not (\"testing\" == 1 or 1 == 0)\n",
        "\"chunky\" == \"bacon\" and not (3 == 4 or 3 == 3)\n",
        "3 == 3 and not (\"testing\" == \"testing\" or \"Python\" == \"Fun\")\n",
        "```\n",
        "\n"
      ]
    },
    {
      "cell_type": "code",
      "execution_count": null,
      "metadata": {
        "id": "8dYcB2NsQnFu"
      },
      "outputs": [],
      "source": [
        "# Write your answer here"
      ]
    },
    {
      "cell_type": "markdown",
      "metadata": {
        "id": "MjkmfwQ2WkPy"
      },
      "source": [
        "#### **Problem-02**\n",
        "\n",
        "\n",
        "*   What is a correct Python expression for checking to see if a number stored in a variable x is between 0 and 5?\n",
        "    1. `x > 0 and < 5`\n",
        "    2. `x > 0 or x < 5`\n",
        "    3. `x > 0 and x < 5`\n",
        "\n",
        "*   Which of the following properly expresses the precedence of operators (using parentheses) in the following expression: **5*3 > 10 and 4+6==11**\n",
        "    1. `((5*3) > 10) and ((4+6) == 11)`\n",
        "    2. `(5*(3 > 10)) and (4 + (6 == 11))`\n",
        "    3. `((((5*3) > 10) and 4)+6) == 11`\n",
        "    4. `((5*3) > (10 and (4+6))) == 11`\n",
        "\n",
        "\n",
        "\n"
      ]
    },
    {
      "cell_type": "code",
      "execution_count": null,
      "metadata": {
        "id": "lJOC3KE-XFdZ"
      },
      "outputs": [],
      "source": [
        "# Write your answer here"
      ]
    },
    {
      "cell_type": "markdown",
      "metadata": {
        "id": "ObcfbdknXxCw"
      },
      "source": [
        "#### **Problem-03**"
      ]
    },
    {
      "cell_type": "markdown",
      "metadata": {
        "id": "RJ-A6tQhX-_P"
      },
      "source": [
        "Write down the truth table of `and, or, not` operator."
      ]
    },
    {
      "cell_type": "markdown",
      "metadata": {
        "id": "129yBGgWY21U"
      },
      "source": [
        "#### **Problem-04**\n",
        "If `a = 9, b = 10`, perform `a and b` and `a & b` operations. Describe the difference."
      ]
    },
    {
      "cell_type": "code",
      "execution_count": null,
      "metadata": {
        "id": "08-62IkvZQfM"
      },
      "outputs": [],
      "source": [
        "# Write your code here"
      ]
    },
    {
      "cell_type": "markdown",
      "metadata": {
        "id": "VsRui8qTZGHk"
      },
      "source": [
        "#### **Problem-05**\n",
        "For the following code segments, without copying it over to the IDE and running it, find out what will be output to the console. Justify your answer.\n",
        "1. Segment 01:\n",
        "    ```python\n",
        "    a = True\n",
        "    b = False\n",
        "    c = True\n",
        "    d = False\n",
        "\n",
        "    print(not b or c and d)\n",
        "    print(not (b and d) or not (not (a and c)) and not c)\n",
        "    ```\n",
        "2. Segment 02:\n",
        "    ```python\n",
        "    a = 1\n",
        "    b = 2\n",
        "    c = 3\n",
        "    d = 11\n",
        "\n",
        "    print((d%c)**b)\n",
        "    print((a + b > c) or (b < c))\n",
        "    ```\n"
      ]
    },
    {
      "cell_type": "code",
      "execution_count": null,
      "metadata": {
        "id": "9zZ-vvqDhtWw"
      },
      "outputs": [],
      "source": [
        "# Write your answer here"
      ]
    },
    {
      "cell_type": "markdown",
      "metadata": {
        "id": "tzSat2Rdhsj5"
      },
      "source": [
        "#### **Problem-06**\n",
        "Fill up the following table with correct answers.\n",
        "\n",
        "| A | B | not A | not B | A == B | A != b | A or B | A and B|\n",
        "|---|---|:-------:|:-------:|:--------:|:--------:|:--------:|:--------:|\n",
        "| True | False |  ?  | ?  |  ?  |   ?  |   ?  |  ?  |\n",
        "| False | True |  ?  | ?  |  ?  |   ?  |   ?  |  ?  |\n",
        "| True | True |  ?  | ?  |  ?  |   ?  |   ?  |  ?  |\n",
        "| False | False |  ?  | ?  |  ?  |   ?  |   ?  |  ?  |\n"
      ]
    },
    {
      "cell_type": "markdown",
      "metadata": {
        "id": "Jn4mT4NqjbZQ"
      },
      "source": [
        "#### **Problem-07**\n",
        "Take two inputs from the user and check whether they are equal or not?"
      ]
    },
    {
      "cell_type": "code",
      "execution_count": null,
      "metadata": {
        "id": "NHo_Sb1pjtxq"
      },
      "outputs": [],
      "source": [
        "# Write your code here"
      ]
    },
    {
      "cell_type": "markdown",
      "metadata": {
        "id": "UAVXVoD2mHw2"
      },
      "source": [
        "#### **Problem-08**\n",
        "Write a Python program to calculate the sum of all digits of a $4$ digit number. Suppose the input number is $1024$. So the output will be $1+0+2+4 = 7$."
      ]
    },
    {
      "cell_type": "code",
      "execution_count": null,
      "metadata": {
        "id": "8-xV5E8cmdsi"
      },
      "outputs": [],
      "source": [
        "# Write your code here"
      ]
    },
    {
      "cell_type": "markdown",
      "metadata": {
        "id": "8ZCfb-gojtBo"
      },
      "source": [
        "#### **Problem-09**\n",
        "Write an python program that calculates $y$ coordinates on a line. First, it prompts the user for a slope $m$, and an intercept $b$ (as seen in the line equation of the form $y = m x + b$ ). Then the program prompts the user for two $x$ values. For each entered number, print the value on that line for that entered $x$ value. Here is a sample run of the program (user input is shown like this):\n",
        "\n",
        "**Sample Input:**\n",
        "```console\n",
        "This program calculates y coordinates for a line.\n",
        "Enter slope (m): 2\n",
        "Enter intercept (b): 4\n",
        "Enter x: 5\n",
        "Enter x: 1\n",
        "```\n",
        "\n",
        "**Sample Output:**\n",
        "```console\n",
        "f(5) = 14\n",
        "f(1) = 6\n",
        "```\n"
      ]
    },
    {
      "cell_type": "code",
      "execution_count": null,
      "metadata": {
        "id": "YkCiy4EHlKMK"
      },
      "outputs": [],
      "source": [
        "# Write your code here"
      ]
    },
    {
      "cell_type": "markdown",
      "metadata": {
        "id": "dIz_cAFUlJNx"
      },
      "source": [
        "#### **Problem-10**\n",
        "Write an python program that calculates the multiplication of two complex numbers. First, take input for two complex numbers. Then calculate multiplication through this generalized form.\n",
        "\n",
        "$$(x + yi)(u + vi) = (xu – yv) + (xv + yu)i$$\n",
        "\n",
        "**Sample Input:**\n",
        "```\n",
        "This program calculates multiplication of two complex numbers.\n",
        "Enter real part of number_1(x): 3\n",
        "Enter img part of number_1(y): 2\n",
        "Enter real part of number_1(u): 1\n",
        "Enter img part of number_1(v): 4\n",
        "```\n",
        "**Sample Output:**\n",
        "```\n",
        "Result:  –5 + 14i\n",
        "```\n",
        "\n"
      ]
    },
    {
      "cell_type": "code",
      "execution_count": null,
      "metadata": {
        "id": "D_t3T8hTmDM-"
      },
      "outputs": [],
      "source": [
        "# Write your code here"
      ]
    }
  ],
  "metadata": {
    "colab": {
      "collapsed_sections": [],
      "provenance": []
    },
    "kernelspec": {
      "display_name": "Python 3.10.6 64-bit",
      "language": "python",
      "name": "python3"
    },
    "language_info": {
      "name": "python",
      "version": "3.10.6"
    },
    "vscode": {
      "interpreter": {
        "hash": "b148fc9bfa8b60132af830e32e1690e4e023b803e92912df15b823b90141dda6"
      }
    }
  },
  "nbformat": 4,
  "nbformat_minor": 0
}
