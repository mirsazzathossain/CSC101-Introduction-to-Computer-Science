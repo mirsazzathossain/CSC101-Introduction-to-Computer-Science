{
 "cells": [
  {
   "attachments": {},
   "cell_type": "markdown",
   "metadata": {},
   "source": [
    "# **Function**\n",
    "\n",
    "In this tutorial, we will learn about functions. Functions are a way to organize your code into reusable blocks. You will learn how to define a function, how to call a function, and how to pass arguments to a function. You will also learn about the return statement and how to use it to return values from a function."
   ]
  },
  {
   "attachments": {},
   "cell_type": "markdown",
   "metadata": {},
   "source": [
    "#### **Problem - 01**\n",
    "Write a Python function to find the Max of two numbers."
   ]
  },
  {
   "cell_type": "code",
   "execution_count": null,
   "metadata": {},
   "outputs": [],
   "source": [
    "# Write your code here"
   ]
  },
  {
   "attachments": {},
   "cell_type": "markdown",
   "metadata": {},
   "source": [
    "#### **Problem - 02**\n",
    "\n",
    "Write a Python function that takes a number as a parameter and check whether it is even or odd. Return \"Even\" or \"Odd\" accordingly."
   ]
  },
  {
   "cell_type": "code",
   "execution_count": null,
   "metadata": {},
   "outputs": [],
   "source": [
    "# Write your code here"
   ]
  },
  {
   "attachments": {},
   "cell_type": "markdown",
   "metadata": {},
   "source": [
    "#### **Problem - 03**\n",
    "```python\n",
    "def afunction():\n",
    "    n3 = 35\n",
    "    return\n",
    "def functest():\n",
    "    n1 = 'This is local variable'\n",
    "    return\n",
    "\n",
    "n2 = 'This is global variable'\n",
    "```\n",
    "\n",
    "Trace out local and global variables."
   ]
  },
  {
   "attachments": {},
   "cell_type": "markdown",
   "metadata": {},
   "source": [
    "#### **Problem - 04**\n",
    "```python\n",
    "def printinfo( arg1, *vartuple ):\n",
    "    \"This prints a variable passed arguments\"\n",
    "    print ('Required argument: ', arg1)\n",
    "    \n",
    "    print ('variable arguments: ')\n",
    "    for var in vartuple:\n",
    "        print (var)\n",
    "    return\n",
    "\n",
    "printinfo( 70, 60, 'Rajit' )\n",
    "printinfo( 10 )\n",
    "```\n",
    "Trace out the output."
   ]
  },
  {
   "attachments": {},
   "cell_type": "markdown",
   "metadata": {},
   "source": [
    "#### **Problem - 05**\n",
    "Write the following function:\n",
    "\n",
    "* `get_and_print` - takes name, age and CGPA of a student from the user and prints them.\n",
    "* `get_and_return` - takes name, age and CGPA of a student from the user and returns them to the caller. The caller should print them.\n",
    "\n",
    "Observe the difference between the two functions."
   ]
  },
  {
   "cell_type": "code",
   "execution_count": null,
   "metadata": {},
   "outputs": [],
   "source": [
    "# Write your code here"
   ]
  },
  {
   "attachments": {},
   "cell_type": "markdown",
   "metadata": {},
   "source": [
    "#### **Problem - 06**\n",
    "\n",
    "Write a function that checks if a number is a term in the Fibonacci series. The function should return `True` if the number is a term in the Fibonacci series and `False` otherwise.\n",
    "\n",
    "For example, if the number is 8, the function should return `True` because 8 is a term in the Fibonacci series. If the number is 7, the function should return `False` because 7 is not a term in the Fibonacci series. First few terms of the Fibonacci series are 0, 1, 1, 2, 3, 5, 8, 13, 21, 34, ..."
   ]
  },
  {
   "cell_type": "code",
   "execution_count": null,
   "metadata": {},
   "outputs": [],
   "source": [
    "# Write your code here"
   ]
  },
  {
   "attachments": {},
   "cell_type": "markdown",
   "metadata": {},
   "source": [
    "#### **Problem -07**\n",
    "\n",
    "Write a function that will take a number as an argument and check if the number is palindrome or not. If the number is palindrome, the function should return True, otherwise it should return False. \n",
    "\n",
    "A palindrome is a number that reads the same backward as forward. For example, 121 is a palindrome while 123 is not. Because 123 does not read the same backward (321) as forward(123) but 121 does."
   ]
  },
  {
   "cell_type": "code",
   "execution_count": null,
   "metadata": {},
   "outputs": [],
   "source": [
    "# Write your code here"
   ]
  },
  {
   "attachments": {},
   "cell_type": "markdown",
   "metadata": {},
   "source": [
    "#### **Problem - 08**\n",
    "\n",
    "Write a function that will take a number as an argument and check if the number is an Armstrong number or not. If the number is an Armstrong number, the function should return True, otherwise it should return False.\n",
    "\n",
    "An Armstrong number is a number that is equal to the sum of cubes of its digits. For example, 153 is an Armstrong number because 1^3 + 5^3 + 3^3 = 153. However, 125 is not an Armstrong number because 1^3 + 2^3 + 5^3 = 134."
   ]
  },
  {
   "cell_type": "code",
   "execution_count": null,
   "metadata": {},
   "outputs": [],
   "source": [
    "# Write your code here"
   ]
  },
  {
   "attachments": {},
   "cell_type": "markdown",
   "metadata": {},
   "source": [
    "#### **Problem - 09**\n",
    "Suppose you have started working on an hourly basis as a librarian in your institution. You want to know how much you will earn a month given that you know how many hours you will work per week and how much you receive per hour. However, whatever amount you earn per month will have 20% of it deducted and that amount will be instead used to pay part of your tuition fees. Write a program that finds out the earnings before and after the deduction. Also find out the yearly earnings (without deduction) and how much of your tuition fees you are paying yourself annually. Assume that there are 4 weeks per month.\n",
    "\n",
    "Write a function named calculateEarning() that will calculate the monthly earning, earning after deduction, yearly earning and amount to be paid as tuition fees. \n",
    "calculateEarning() function should take weekly hour and earning per hour as parameters.\n",
    "\n",
    "Sample input/output:\t\n",
    "```\n",
    "  Enter the number of hours you will work per week: 20\n",
    "  Enter the amount you earn per hour: BDT. 150\n",
    "    \n",
    "  Monthly earning: BDT. 12000\n",
    "  Monthly earning after deduction: BDT. 9600\n",
    "  Yearly earning: BDT. 144000\n",
    "  Amount paid as tuition fees per year: BDT. 28800\n",
    "```"
   ]
  },
  {
   "cell_type": "code",
   "execution_count": null,
   "metadata": {},
   "outputs": [],
   "source": [
    "# Write your code here"
   ]
  },
  {
   "attachments": {},
   "cell_type": "markdown",
   "metadata": {},
   "source": [
    "#### **Problem - 10**\n",
    "\n",
    "Write a function that will take two numbers as arguments and return all perfect numbers between those two numbers. \n",
    "\n",
    "A perfect number is a positive integer that is equal to the sum of its proper positive divisors, that is, the sum of its positive divisors excluding the number itself. For example, 6 is a perfect number because 1, 2, and 3 are its proper positive divisors, and 1 + 2 + 3 = 6. However, 24 is not a perfect number because 1, 2, 3, 4, 6, and 8 are its proper positive divisors, and 1 + 2 + 3 + 4 + 6 + 8 = 28."
   ]
  },
  {
   "cell_type": "code",
   "execution_count": null,
   "metadata": {},
   "outputs": [],
   "source": [
    "# Write your code here"
   ]
  }
 ],
 "metadata": {
  "kernelspec": {
   "display_name": "Python 3",
   "language": "python",
   "name": "python3"
  },
  "language_info": {
   "name": "python",
   "version": "3.10.6 (tags/v3.10.6:9c7b4bd, Aug  1 2022, 21:53:49) [MSC v.1932 64 bit (AMD64)]"
  },
  "orig_nbformat": 4,
  "vscode": {
   "interpreter": {
    "hash": "b148fc9bfa8b60132af830e32e1690e4e023b803e92912df15b823b90141dda6"
   }
  }
 },
 "nbformat": 4,
 "nbformat_minor": 2
}
