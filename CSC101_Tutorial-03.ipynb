{
  "cells": [
    {
      "cell_type": "markdown",
      "metadata": {
        "id": "PGpM3QFCbeRK"
      },
      "source": [
        "## **Conditional Statements**\n",
        "In this tutorial, we will learn about conditional statements. Conditional statements are used to control the flow of a program. They allow us to execute a block of code only if a certain condition is met. After completing this tutorial, you will be able to:\n",
        "- Define conditions based on given problem statements\n",
        "- Trace out alternate conditions and take appropriate actions based on the conditions\n",
        "- Write programs using conditional statements"
      ]
    },
    {
      "cell_type": "markdown",
      "metadata": {
        "id": "X_fNVTr9fXnj"
      },
      "source": [
        "#### **Problem 01**\n",
        "Consider two numbers a and b. Also assume a and b are extremely large. They are larger than 10000. Now write a program to compute if a to the power b (a^b) is even or odd. \n",
        "\n",
        "**Warning:** Avoid calculating the result of a^b.\n",
        "\n",
        "**Sample Input :**\n",
        "```\n",
        "Number a:21331\n",
        "Number b:10001\n",
        "```\n",
        "**Sample Output:**\n",
        "```\n",
        "Result: Odd\n",
        "```"
      ]
    },
    {
      "cell_type": "code",
      "execution_count": 1,
      "metadata": {
        "id": "VW1u1yO5o9Lw"
      },
      "outputs": [],
      "source": [
        "# Write your code here"
      ]
    },
    {
      "cell_type": "markdown",
      "metadata": {
        "id": "dBdvEmUkcsr8"
      },
      "source": [
        "#### **Problem 02**\n",
        "Write a program which takes three 4 digits numbers as inputs and the program prints the maximum number of those numbers as output.\n",
        "\n",
        "**Sample Input:**\n",
        "```\n",
        "Enter 1st number: 1285\n",
        "Enter 2nd number: 8381\n",
        "Enter 3rd number: 5713\n",
        "```\n",
        "**Sample Output:**\n",
        "```\n",
        "The maximum number of them is 8381\n",
        "```"
      ]
    },
    {
      "cell_type": "code",
      "execution_count": 2,
      "metadata": {
        "id": "Oe9qTUBupBMU"
      },
      "outputs": [],
      "source": [
        "# Write your code here"
      ]
    },
    {
      "cell_type": "markdown",
      "metadata": {},
      "source": [
        "#### **Problem 03**\n",
        "Write a Python program which takes a number as input and check if the number is positive, negative or zero.\n",
        "\n",
        "**Sample Input:**\n",
        "```console\n",
        "Enter a number: 5\n",
        "```\n",
        "**Sample Output:**\n",
        "```console\n",
        "5 is a positive number\n",
        "```"
      ]
    },
    {
      "cell_type": "code",
      "execution_count": 3,
      "metadata": {},
      "outputs": [],
      "source": [
        "# Write your code here"
      ]
    },
    {
      "cell_type": "markdown",
      "metadata": {},
      "source": [
        "#### **Problem 04**\n",
        "Write a Python program to take a character as input and check if the character is a vowel or consonant.\n",
        "\n",
        "**Sample Input:**\n",
        "```console\n",
        "Enter a character: a\n",
        "```\n",
        "**Sample Output:**\n",
        "```console\n",
        "'a' is a vowel\n",
        "```"
      ]
    },
    {
      "cell_type": "code",
      "execution_count": 4,
      "metadata": {},
      "outputs": [],
      "source": [
        "# Write your code here"
      ]
    },
    {
      "cell_type": "markdown",
      "metadata": {},
      "source": [
        "#### **Problem 05**\n",
        "For this problem, you will need to take two integers `a`, `b` and a caracter `c` to represent an operation. The caracter can be +, -, *, / or % (for modulus). You will need to perform the operation on a and b and print the result. If the operation is not one of the above, print \"Invalid operation\".\n",
        "\n",
        "**Sample Input:**\n",
        "```console\n",
        "Enter a: 5\n",
        "Enter b: 2\n",
        "Enter operation: +\n",
        "```\n",
        "\n",
        "**Sample Output:**\n",
        "```console\n",
        "Result: 7\n",
        "```"
      ]
    },
    {
      "cell_type": "code",
      "execution_count": 5,
      "metadata": {},
      "outputs": [],
      "source": [
        "# Write your code here"
      ]
    },
    {
      "cell_type": "markdown",
      "metadata": {},
      "source": [
        "#### **Problem 06**\n",
        "Read 4 integer numbers `a`, `b`, `c` and `d` from the user. Then if `b` is greater than `a` and sum of `c` and `d` is greater than `a` and `b` and if `c` and `d` are positive and `a` is even, print \"Correct values\", otherwise print \"Wrong values\".\n",
        "\n",
        "**Sample Input:**\n",
        "```console\n",
        "Enter a: 5\n",
        "Enter b: 6\n",
        "Enter c: 7\n",
        "Enter d: 8\n",
        "```\n",
        "\n",
        "**Sample Output:**\n",
        "```console\n",
        "Correct values\n",
        "```"
      ]
    },
    {
      "cell_type": "code",
      "execution_count": 6,
      "metadata": {},
      "outputs": [],
      "source": [
        "# Write your code here"
      ]
    },
    {
      "cell_type": "markdown",
      "metadata": {},
      "source": [
        "#### **Problem 07**\n",
        "According to the Gregorian calendar, a few years are regarded as leap years. These years had 366 days rather than 365 days, and the month February had 29 days rather than 28. When the year is a multiple of 4, but not a multiple of 400, it is a leap year.\n",
        "\n",
        "Write a program that takes a year as input and prints whether the year is a leap year or not.\n",
        "\n",
        "**Sample Input:**\n",
        "```console\n",
        "Enter a year: 2004\n",
        "```\n",
        "**Sample Output:**\n",
        "```console\n",
        "2004 is a leap year\n",
        "```"
      ]
    },
    {
      "cell_type": "code",
      "execution_count": 7,
      "metadata": {},
      "outputs": [],
      "source": [
        "# Write your code here"
      ]
    },
    {
      "cell_type": "markdown",
      "metadata": {
        "id": "-STyTfMlcdyU"
      },
      "source": [
        "#### **Problem 08**\n",
        "For this problem you need to write down a code for the grading system. Consider the grading system used in the [Ministry of Education](http://www.educationboard.gov.bd/computer/grading_system.php) website link (follow the link marked in blue color). \n",
        "\n",
        "Now, you need to write a program that takes a number as score of a student out of 100. Then, the program should print the grade of the student.\n",
        "\n",
        "Sample Input :\n",
        "```console\n",
        "Enter your score: 85\n",
        "```\n",
        "Sample Output:\n",
        "```console\n",
        "You got A+ on the subject.\n",
        "```"
      ]
    },
    {
      "cell_type": "code",
      "execution_count": 8,
      "metadata": {},
      "outputs": [],
      "source": [
        "# Write your code here"
      ]
    },
    {
      "cell_type": "markdown",
      "metadata": {
        "id": "5uThoiAEgyxD"
      },
      "source": [
        "#### **Problem 09**\n",
        "A company of Bangladesh, is decided to give a salary increase to its employees, according to the following table:\n",
        "\n",
        "| Salary | Readjustment Rate |\n",
        "|:------:|:-----------------:|\n",
        "| 0 - 400.00| 15% |\n",
        "| 400.01 - 800.00 | 12% |\n",
        "| 800.01 - 1200.00 | 10% |\n",
        "| 1200.01 - 2000.00 | 7% |\n",
        "| Above 2000.00 | 4% |\n",
        "\n",
        "                               \n",
        "Read the employee's salary, calculate and print the new employee's salary, as well the money earned and the increased percentage obtained by the employee, with corresponding messages, as the below example.\n",
        "\n",
        "**Sample Input:**\n",
        "```console\n",
        "Enter your salary: 400\n",
        "```\n",
        "**Sample Output:**\n",
        "```console\n",
        "Previous Salary: 400\n",
        "Current Salary: 460\n",
        "Increment Rate: 15%\n",
        "```\n"
      ]
    },
    {
      "cell_type": "code",
      "execution_count": 9,
      "metadata": {
        "id": "C2jUdU0fpI6k"
      },
      "outputs": [],
      "source": [
        "# Write your code here"
      ]
    },
    {
      "cell_type": "markdown",
      "metadata": {},
      "source": [
        "#### **Problem 10**\n",
        "Remember the quadratic equation? $ax^2 + bx + c = 0$. There are at most two possible solutions for this equation. They may be real or imaginary. The solutions are given by the following formula:\n",
        "\n",
        "$$x = \\frac{-b \\pm \\sqrt{b^2 - 4ac}}{2a}$$\n",
        "\n",
        "The equation may have only one root or two roots. or imaginary roots. The discriminant $b^2 - 4ac$ determines the number of roots by the following rules:\n",
        "\n",
        "- If $b^2 - 4ac > 0$, then the equation has two real roots.\n",
        "- If $b^2 - 4ac = 0$, then the equation has one real root.\n",
        "- If $b^2 - 4ac < 0$, then the equation has two imaginary roots.\n",
        "\n",
        "Write a program that takes the values of $a$, $b$, and $c$ as input and prints the roots of the equation. If the equation has no real roots, print a message: \"The equation has no real roots\". If real root/roots exist, print the roots in the following format:\n",
        "\n",
        "**Sample Input 01:**\n",
        "```console\n",
        "Enter a: 1\n",
        "Enter b: 2\n",
        "Enter c: 1\n",
        "```\n",
        "\n",
        "**Sample Output 01:**\n",
        "```console\n",
        "The equation has one real root: -1.0\n",
        "```\n",
        "\n",
        "**Sample Input 02:**\n",
        "```console\n",
        "Enter a: 8\n",
        "Enter b: -4\n",
        "Enter c: -2\n",
        "```\n",
        "\n",
        "**Sample Output 02:**\n",
        "```console\n",
        "The equation has two real roots: 0.81 and -0.31\n",
        "```\n",
        "\n",
        "**Sample Input 03:**\n",
        "```console\n",
        "Enter a: 1\n",
        "Enter b: 2\n",
        "Enter c: 3\n",
        "```\n",
        "\n",
        "**Sample Output 03:**\n",
        "```console\n",
        "The equation has no real roots\n",
        "```"
      ]
    },
    {
      "cell_type": "code",
      "execution_count": 10,
      "metadata": {},
      "outputs": [],
      "source": [
        "# Write your code here"
      ]
    }
  ],
  "metadata": {
    "colab": {
      "collapsed_sections": [],
      "provenance": []
    },
    "kernelspec": {
      "display_name": "Python 3.10.6 64-bit",
      "language": "python",
      "name": "python3"
    },
    "language_info": {
      "codemirror_mode": {
        "name": "ipython",
        "version": 3
      },
      "file_extension": ".py",
      "mimetype": "text/x-python",
      "name": "python",
      "nbconvert_exporter": "python",
      "pygments_lexer": "ipython3",
      "version": "3.10.6"
    },
    "vscode": {
      "interpreter": {
        "hash": "b148fc9bfa8b60132af830e32e1690e4e023b803e92912df15b823b90141dda6"
      }
    }
  },
  "nbformat": 4,
  "nbformat_minor": 0
}
