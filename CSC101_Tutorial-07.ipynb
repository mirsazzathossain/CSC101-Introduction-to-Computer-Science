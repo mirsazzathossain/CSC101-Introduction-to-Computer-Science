{
 "cells": [
  {
   "cell_type": "markdown",
   "metadata": {},
   "source": [
    "## **List and Tuples**\n",
    "\n",
    "In this tutorial, we will learn about the following data structures:\n",
    "\n",
    "* List\n",
    "* Tuple\n",
    "\n",
    "We will solve some problems to get a better understanding of these data structures and their built-in functions."
   ]
  },
  {
   "cell_type": "markdown",
   "metadata": {},
   "source": [
    "#### **Problem 01**\n",
    "Create the following list using the list constructor and store it in a variable named `my_list`:\n",
    "\n",
    "`[1, 2, 3, 4, 5, 6, 7, 8, 9, 10]`\n",
    "\n",
    "Then, print the list."
   ]
  },
  {
   "cell_type": "code",
   "execution_count": null,
   "metadata": {},
   "outputs": [],
   "source": [
    "# Write your code here"
   ]
  },
  {
   "cell_type": "markdown",
   "metadata": {},
   "source": [
    "#### **Problem 02**\n",
    "Create the following list using the list constructor and store it in a variable named `my_list`:\n",
    "\n",
    "`[103, 102, 101, 100, 99, 98, 97, 96, 95, 94]`\n",
    "\n",
    "Print the values at the odd indices of the list."
   ]
  },
  {
   "cell_type": "code",
   "execution_count": null,
   "metadata": {},
   "outputs": [],
   "source": [
    "# Write your code here"
   ]
  },
  {
   "cell_type": "markdown",
   "metadata": {},
   "source": [
    "#### **Problem 03**\n",
    "Create the following list using the list constructor and store it in a variable named `my_list`:\n",
    "\n",
    "`[1, 2, 3, 4, 5, 6, 7, 8, 9, 10]`\n",
    "\n",
    "Then, print how many elements are in the list."
   ]
  },
  {
   "cell_type": "code",
   "execution_count": null,
   "metadata": {},
   "outputs": [],
   "source": [
    "# Write your code here"
   ]
  },
  {
   "cell_type": "markdown",
   "metadata": {},
   "source": [
    "#### **Problem 04**\n",
    "Find the maximum and minimum values in the following list and store them in variables named `max_value` and `min_value` respectively:\n",
    "\n",
    "`[13, 3, 5, 7, 11, 2, 17, 19]`\n",
    "\n",
    "Then, print the maximum and minimum values."
   ]
  },
  {
   "cell_type": "code",
   "execution_count": null,
   "metadata": {},
   "outputs": [],
   "source": [
    "# Write your code here"
   ]
  },
  {
   "cell_type": "markdown",
   "metadata": {},
   "source": [
    "#### **Problem 05**\n",
    "Create a list of following words and store it in a variable named `my_list`:\n",
    "\n",
    "`['apple', 'banana', 'orange', 'grape', 'mango']`\n",
    "\n",
    "Print the word that comes first in the dictionary and the word that comes last in the dictionary from the list. Store theses words in variables named `first_word` and `last_word` respectively. Then, print the first and last words."
   ]
  },
  {
   "cell_type": "code",
   "execution_count": null,
   "metadata": {},
   "outputs": [],
   "source": [
    "# Write your code here"
   ]
  },
  {
   "cell_type": "markdown",
   "metadata": {},
   "source": [
    "#### **Problem 06**\n",
    "Create a list of 5 numbers taken from the user and append them to a list named `my_list`. Then, print sum and average of the numbers in the list."
   ]
  },
  {
   "cell_type": "code",
   "execution_count": null,
   "metadata": {},
   "outputs": [],
   "source": [
    "# Write your code here"
   ]
  },
  {
   "cell_type": "markdown",
   "metadata": {},
   "source": [
    "#### **Problem 07**\n",
    "Consider the following list:\n",
    "\n",
    "`[1,3,5,7,9,11,13,15,17,19]`\n",
    "\n",
    "Insert the following numbers at the odd indices of the list:\n",
    "\n",
    "`[2,4,6,8,10,12,14,16,18,20]`\n",
    "\n",
    "Then, print the list."
   ]
  },
  {
   "cell_type": "code",
   "execution_count": null,
   "metadata": {},
   "outputs": [],
   "source": [
    "# Write your code here   "
   ]
  },
  {
   "cell_type": "markdown",
   "metadata": {},
   "source": [
    "#### **Problem 08**\n",
    "Consider the following list:\n",
    "\n",
    "`[1,2,3,4,5,6,7,8,9,10]`\n",
    "\n",
    "Remove the elements at the odd indices of the list. Then, print the list."
   ]
  },
  {
   "cell_type": "code",
   "execution_count": null,
   "metadata": {},
   "outputs": [],
   "source": [
    "# Write your code here"
   ]
  },
  {
   "cell_type": "markdown",
   "metadata": {},
   "source": [
    "#### **Problem 09**\n",
    "\n",
    "Consider the following list:\n",
    "\n",
    "`[3, 4, 5, 9, -1, -1, 0, 2, 1, 6, 7, 8]`\n",
    "\n",
    "Remove all instances of -1 from the list. Then, print the list."
   ]
  },
  {
   "cell_type": "code",
   "execution_count": null,
   "metadata": {},
   "outputs": [],
   "source": [
    "# Write your code here"
   ]
  },
  {
   "cell_type": "markdown",
   "metadata": {},
   "source": [
    "#### **Problem 10**\n",
    "Create a list of 5 cities taken from the user and store them in a variable named `cities`. Sort the list in alphabetical order and store it in a variable named `sorted_cities`. Then, print the sorted list."
   ]
  },
  {
   "cell_type": "code",
   "execution_count": null,
   "metadata": {},
   "outputs": [],
   "source": [
    "# Write your code here"
   ]
  },
  {
   "cell_type": "markdown",
   "metadata": {},
   "source": [
    "#### **Problem 11**\n",
    "Create a tuple of 5 numbers taken from the user and store it in a variable named `numbers`.\n",
    "\n",
    "Create another tuple of 5 cities taken from the user and store it in a variable named `cities`.\n",
    "\n",
    "Then, print the tuple of numbers and the tuple of cities."
   ]
  },
  {
   "cell_type": "code",
   "execution_count": null,
   "metadata": {},
   "outputs": [],
   "source": [
    "# Write your code here"
   ]
  },
  {
   "cell_type": "markdown",
   "metadata": {},
   "source": [
    "#### **Problem 12**\n",
    "Create a tuple named `mixed` and insert following values: 'apple', 75, 3.14, True, 'Abdullah', 'Dhaka'. Then, calculate the summation of the numbers in the tuple and print the result."
   ]
  },
  {
   "cell_type": "code",
   "execution_count": null,
   "metadata": {},
   "outputs": [],
   "source": [
    "# Write your code here"
   ]
  },
  {
   "cell_type": "markdown",
   "metadata": {},
   "source": [
    "#### **Problem 13**\n",
    "Change the value \"apple\" to \"orange\" in the following tuple:\n",
    "\n",
    "`('apple', 75, 3.14, True, 'Abdullah', 'Dhaka')`\n",
    "\n",
    "Then, print the tuple."
   ]
  },
  {
   "cell_type": "code",
   "execution_count": null,
   "metadata": {},
   "outputs": [],
   "source": [
    "# Write your code here"
   ]
  },
  {
   "cell_type": "markdown",
   "metadata": {},
   "source": [
    "#### **Problem 14**\n",
    "Merge the following two tuples:\n",
    "\n",
    "`('Dhaka', 'Chittagong', 'Rajshahi', 'Khulna', 'Barisal')`\n",
    "\n",
    "`('Sylhet', 'Rangpur', 'Mymensingh')`\n",
    "\n",
    "Then, print the merged tuple."
   ]
  },
  {
   "cell_type": "code",
   "execution_count": null,
   "metadata": {},
   "outputs": [],
   "source": [
    "# Write your code here"
   ]
  },
  {
   "cell_type": "markdown",
   "metadata": {},
   "source": [
    "#### **Problem 15**\n",
    "Create a tuple named `my_tuple` and insert following values: 'apple', 75, 3.14, True, 'Abdullah', 'Dhaka'.\n",
    "\n",
    "Execute the following code and observe the output:\n",
    "\n",
    "```python\n",
    "print(my_tuple[0])\n",
    "print(my_tuple[1:4])\n",
    "print(my_tuple[-1])\n",
    "print(my_tuple[-2:])\n",
    "print(my_tuple[1:-1:2])\n",
    "```\n",
    "\n",
    "Explain the output of the above code."
   ]
  },
  {
   "cell_type": "code",
   "execution_count": null,
   "metadata": {},
   "outputs": [],
   "source": [
    "# Write your code here"
   ]
  }
 ],
 "metadata": {
  "kernelspec": {
   "display_name": "Python 3",
   "language": "python",
   "name": "python3"
  },
  "language_info": {
   "codemirror_mode": {
    "name": "ipython",
    "version": 3
   },
   "file_extension": ".py",
   "mimetype": "text/x-python",
   "name": "python",
   "nbconvert_exporter": "python",
   "pygments_lexer": "ipython3",
   "version": "3.10.6"
  },
  "orig_nbformat": 4,
  "vscode": {
   "interpreter": {
    "hash": "b148fc9bfa8b60132af830e32e1690e4e023b803e92912df15b823b90141dda6"
   }
  }
 },
 "nbformat": 4,
 "nbformat_minor": 2
}
