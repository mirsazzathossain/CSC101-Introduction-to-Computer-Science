{
 "cells": [
  {
   "cell_type": "markdown",
   "metadata": {},
   "source": [
    "#### **Project Title: Bank activity management system**\n",
    "Using programming knowledge and skills, we will develop a system that will help the bank to manage its activities. \n",
    "\n",
    "##### **Problem Description:**\n",
    "Every banks nowadays use a system to manage their activities. This system is used to manage the bank’s customers, their accounts, and their transactions. According to the Bank Company Act 1991, every new commercial bank must have to have a reserve fund of 400 Crore BDT as security deposit money to start their business. And all times they have to maintain this reserve fund. So, the bank has to manage their customers, their accounts, and their transactions to maintain their reserve fund. The following are the main activities of the bank:\n",
    "\n",
    "*   Open a new account\n",
    "*   Deposit money\n",
    "*   Withdraw money\n",
    "*   Transfer money\n",
    "*   Check balance"
   ]
  },
  {
   "cell_type": "markdown",
   "metadata": {},
   "source": [
    "#### **Weekly Task Breakdown:**\n",
    "##### **Task 1:**\n",
    "The first task is to give a name of the software. The name should be unique. We all know name of the software is the first thing a person notices even before using the software. So, create a unique name to the software that you are going to make for the scenarios described in the problem above. \n",
    "\n",
    "*   Create a unique name for the software.\n",
    "*   Think and write down how do you think all the scenarios described in the problem above can be solved using programming knowledge and skills.\n",
    "\n",
    "##### **Task 2: Variables and Data Types:**\n",
    "Try to identify the variables and data types that you will need to solve the problem. And then, create a table to show the variables and data types. Each variable should have a unique name. Explain why you have chosen the data type for each variable.\n",
    "\n",
    "##### **Task 3: Conditional Statements:**\n",
    "Think about the situations where a customer requested to withdraw or transfer money from his/her account. And then, write down the conditions that you will need to check before processing the request. For example, if a customer requested to withdraw money from his/her account, you will need to check the following conditions:\n",
    "\n",
    "1. If the customer has enough money in his/her account to withdraw. \n",
    "2. If the transaction amount is less than the transaction limit.\n",
    "\n",
    "If the customer has enough money and the transaction amount is less than the transaction limit, then you will process the request. Otherwise, you will not process the request. \n",
    "\n",
    "How will you check the conditions? You will use conditional statements. So, write down the conditional statements that you will use to check the conditions.\n",
    "\n",
    "##### **Task 4: Loops:**\n",
    "\n"
   ]
  }
 ],
 "metadata": {
  "kernelspec": {
   "display_name": "Python 3",
   "language": "python",
   "name": "python3"
  },
  "language_info": {
   "name": "python",
   "version": "3.10.6 (tags/v3.10.6:9c7b4bd, Aug  1 2022, 21:53:49) [MSC v.1932 64 bit (AMD64)]"
  },
  "orig_nbformat": 4,
  "vscode": {
   "interpreter": {
    "hash": "b148fc9bfa8b60132af830e32e1690e4e023b803e92912df15b823b90141dda6"
   }
  }
 },
 "nbformat": 4,
 "nbformat_minor": 2
}
